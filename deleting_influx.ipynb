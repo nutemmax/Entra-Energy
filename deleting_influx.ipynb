{
 "cells": [
  {
   "cell_type": "code",
   "execution_count": 1,
   "id": "20907dd8-0b93-44ce-9000-f7b1d6f803f2",
   "metadata": {},
   "outputs": [],
   "source": [
    "import logging\n",
    "import pandas as pd\n",
    "import os\n",
    "import random\n",
    "import time\n",
    "import requests\n",
    "from datetime import datetime \n",
    "from entsoe import EntsoePandasClient\n",
    "from influxdb_client import InfluxDBClient, Point, WritePrecision\n",
    "from influxdb_client.client.write_api import SYNCHRONOUS\n",
    "from influxdb_client.client.query_api import QueryApi"
   ]
  },
  {
   "cell_type": "code",
   "execution_count": 33,
   "id": "72963b78-0afb-4ec5-ba8e-526af77dde5b",
   "metadata": {},
   "outputs": [],
   "source": [
    "# Define InfluxDB connection details\n",
    "influxdb_url = 'http://159.89.103.242:8086'\n",
    "influxdb_token = 'dfRMxqDtwyHK7vDJHelAm0WKISLvKFUrmhclvaaAoMFOHRRTGNnYkV8bXd0jR9r4arvkg3l_lWNSHyKMG0WxSg=='\n",
    "influxdb_org = 'entra'\n",
    "influxdb_bucket = 'entra'\n",
    "\n",
    "host = '159.89.103.242' \n",
    "port = 8086 "
   ]
  },
  {
   "cell_type": "code",
   "execution_count": 34,
   "id": "95dd7160-8eb6-4829-ba43-ecd8687c6fe9",
   "metadata": {},
   "outputs": [],
   "source": [
    "# Create InfluxDB client\n",
    "influx_client = InfluxDBClient(url=influxdb_url, token=influxdb_token, org=influxdb_org)"
   ]
  },
  {
   "cell_type": "code",
   "execution_count": 35,
   "id": "1f8fe6db-5ee2-4697-a7f7-60c720a09b80",
   "metadata": {},
   "outputs": [],
   "source": [
    "# Create the write API\n",
    "write_api = influx_client.write_api(write_options=SYNCHRONOUS)"
   ]
  },
  {
   "cell_type": "code",
   "execution_count": null,
   "id": "56343545-4da3-4afa-b712-9c243ed02b11",
   "metadata": {},
   "outputs": [],
   "source": [
    "categories = {\n",
    "    '6.1.A': 'actual_total_load',\n",
    "    '6.1.B': 'day_ahead_total_load_forecast',\n",
    "    '14.1.A': 'installed_generation_capacity',\n",
    "    '16.1.B&C': 'actual_generation'\n",
    "}"
   ]
  },
  {
   "cell_type": "code",
   "execution_count": 52,
   "id": "3f18a8e1-0bf3-475f-89db-ba57478e3311",
   "metadata": {},
   "outputs": [],
   "source": [
    "measurement = 'installed_generation_capacity' \n",
    "url = f\"http://{host}:{port}/api/v2/delete?org={influxdb_org}&bucket={influxdb_bucket}\"\n",
    "predicate = f'_measurement=\"{measurement}\"' "
   ]
  },
  {
   "cell_type": "code",
   "execution_count": 53,
   "id": "4e4bd6c8-9040-4482-91b8-b5b9c68d5e18",
   "metadata": {},
   "outputs": [],
   "source": [
    "# Define the request headers and authentication \n",
    "headers = { 'Authorization': f'Token {influxdb_token}', \n",
    "'Content-Type': 'application/json' \n",
    "} "
   ]
  },
  {
   "cell_type": "code",
   "execution_count": 54,
   "id": "31763e94-58c6-482e-a8db-5b7697147414",
   "metadata": {},
   "outputs": [],
   "source": [
    "# Define the request body \n",
    "\n",
    "data = {'start': '2015-01-01T00:00:00Z',\n",
    "        'stop': datetime.utcnow().isoformat() + 'Z', \n",
    "        'predicate': predicate, } "
   ]
  },
  {
   "cell_type": "code",
   "execution_count": 55,
   "id": "b3b98d35-219b-44be-8de5-f654bf66ee22",
   "metadata": {},
   "outputs": [
    {
     "name": "stdout",
     "output_type": "stream",
     "text": [
      "Measurement deleted successfully\n"
     ]
    }
   ],
   "source": [
    "# Send the DELETE request to delete the measurement \n",
    "response = requests.post(url, headers=headers, json=data) \n",
    "# Check the response status code \n",
    "if response.status_code == 204:\n",
    "    print(\"Measurement deleted successfully\") \n",
    "else:\n",
    "    print(\"Failed to delete measurement:\", response.text)"
   ]
  },
  {
   "cell_type": "code",
   "execution_count": null,
   "id": "f031ad9e-e287-470d-bb56-644f426ff587",
   "metadata": {},
   "outputs": [],
   "source": []
  },
  {
   "cell_type": "code",
   "execution_count": null,
   "id": "9735e2d9-a0b5-474f-b160-67997ae4b97e",
   "metadata": {},
   "outputs": [],
   "source": []
  }
 ],
 "metadata": {
  "kernelspec": {
   "display_name": "Python 3 (ipykernel)",
   "language": "python",
   "name": "python3"
  },
  "language_info": {
   "codemirror_mode": {
    "name": "ipython",
    "version": 3
   },
   "file_extension": ".py",
   "mimetype": "text/x-python",
   "name": "python",
   "nbconvert_exporter": "python",
   "pygments_lexer": "ipython3",
   "version": "3.10.9"
  }
 },
 "nbformat": 4,
 "nbformat_minor": 5
}
