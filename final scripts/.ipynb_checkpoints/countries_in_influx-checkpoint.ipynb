{
 "cells": [
  {
   "cell_type": "code",
   "execution_count": 8,
   "id": "ec7f7e27-2aaa-4a43-b79e-358d167e4ead",
   "metadata": {},
   "outputs": [],
   "source": [
    "# Import Libraries\n",
    "import logging\n",
    "import pandas as pd\n",
    "from influxdb_client import InfluxDBClient, Point, WritePrecision\n",
    "from influxdb_client.client.query_api import QueryApi\n",
    "import influxdb_client\n",
    "from influxdb_client.client.exceptions import InfluxDBError"
   ]
  },
  {
   "cell_type": "code",
   "execution_count": 2,
   "id": "9ce41717-b3a9-43e7-955f-9b2674b9278c",
   "metadata": {},
   "outputs": [],
   "source": [
    "# Set up logging\n",
    "logging.basicConfig(filename='influxdb_query.log', level=logging.INFO, format='%(asctime)s - %(levelname)s - %(message)s')\n",
    "logging.info('Script started at %s', pd.Timestamp.now(tz='UTC'))"
   ]
  },
  {
   "cell_type": "code",
   "execution_count": 3,
   "id": "2cd3dd03-f276-4e6d-8198-ab8467bd6a38",
   "metadata": {},
   "outputs": [],
   "source": [
    "# Define InfluxDB connection details\n",
    "influxdb_url = 'http://159.89.103.242:8086'\n",
    "influxdb_token = 'dfRMxqDtwyHK7vDJHelAm0WKISLvKFUrmhclvaaAoMFOHRRTGNnYkV8bXd0jR9r4arvkg3l_lWNSHyKMG0WxSg=='\n",
    "influxdb_org = 'entra'\n",
    "influxdb_bucket = 'entra'"
   ]
  },
  {
   "cell_type": "code",
   "execution_count": 4,
   "id": "f78abd2f-0277-4315-8b92-198ff3840831",
   "metadata": {},
   "outputs": [],
   "source": [
    "# Create InfluxDB client\n",
    "influx_client = InfluxDBClient(url=influxdb_url, token=influxdb_token, org=influxdb_org)\n",
    "# Instantiate the query API\n",
    "query_api = QueryApi(influx_client)"
   ]
  },
  {
   "cell_type": "code",
   "execution_count": 5,
   "id": "bcbe0a51-4f05-4ed5-ba82-23196e7f219f",
   "metadata": {},
   "outputs": [],
   "source": [
    "# Define measurements\n",
    "measurements = ['actual_total_load',\n",
    "                'day_ahead_total_load_forecast',\n",
    "                'installed_generation_capacity',\n",
    "                'actual_generation']"
   ]
  },
  {
   "cell_type": "code",
   "execution_count": null,
   "id": "fa353af1-3982-443b-a422-439187d687cb",
   "metadata": {},
   "outputs": [],
   "source": [
    "# Country codes\n",
    "country_codes = [\"DE_50HZ\", \"IT_NORD_SI\", \"AL\", \"IT_PRGP\", \"DE_AMPRION\", \"IT_ROSN\", \"AT\", \"IT_SARD\", \"BY\", \"IT_SICI\",\n",
    "                 \"BE\", \"IT_SUD\", \"BA\", \"RU_KGD\", \"BG\", \"LV\", \"CZ_DE_SK\", \"LT\", \"HR\", \"LU\", \"CWE\", \"MT\", \"CY\", \"ME\",\n",
    "                 \"CZ\", \"GB\", \"DE_AT_LU\", \"NL\", \"DE_LU\", \"NO_1\", \"DK\", \"NO_2\", \"DK_1\", \"NO_3\", \"DK_2\", \"NO_4\", \"DK_CA\",\n",
    "                 \"NO_5\", \"EE\", \"NO\", \"FI\", \"PL_CZ\", \"MK\", \"PL\", \"FR\", \"PT\", \"DE\", \"MD\", \"GR\", \"RO\", \"HU\", \"RU\", \"IS\",\n",
    "                 \"SE_1\", \"IE_SEM\", \"SE_2\", \"IE\", \"SE_3\", \"IT\", \"SE_4\", \"IT_SACO_AC\", \"RS\", \"IT_SACO_DC\", \"SK\", \"IT_BRNN\",\n",
    "                 \"SI\", \"IT_CNOR\", \"GB_NIR\", \"IT_CSUD\", \"ES\", \"IT_FOGN\", \"SE\", \"IT_GR\", \"CH\", \"IT_MACRO_NORTH\",\n",
    "                 \"DE_TENNET\", \"IT_MACRO_SOUTH\", \"DE_TRANSNET\", \"IT_MALTA\", \"TR\", \"IT_NORD\", \"UA\", \"IT_NORD_AT\",\n",
    "                 \"UA_DOBTPP\", \"IT_NORD_CH\", \"UA_BEI\", \"IT_NORD_FR\", \"UA_IPS\"]"
   ]
  },
  {
   "cell_type": "code",
   "execution_count": 9,
   "id": "1d10a0b0-726a-496c-a8ad-b86ed9964642",
   "metadata": {},
   "outputs": [
    {
     "name": "stdout",
     "output_type": "stream",
     "text": [
      "import \"influxdata/influxdb/v1\"; v1.tagValues(bucket: \"entra\", tag: \"country\", predicate: (r) => r._measurement == \"actual_total_load\")\n",
      "Failed to retrieve data for measurement: actual_total_load. Error: (400)\n",
      "Reason: Bad Request\n",
      "HTTP response headers: HTTPHeaderDict({'Content-Type': 'application/json; charset=utf-8', 'Vary': 'Accept-Encoding', 'X-Influxdb-Build': 'OSS', 'X-Influxdb-Version': 'v2.7.0', 'X-Platform-Error-Code': 'invalid', 'Date': 'Fri, 21 Jul 2023 13:21:59 GMT', 'Transfer-Encoding': 'chunked'})\n",
      "HTTP response body: b'{\"code\":\"invalid\",\"message\":\"compilation failed: error @1:32-1:33: invalid statement: ;\"}'\n",
      "\n",
      "import \"influxdata/influxdb/v1\"; v1.tagValues(bucket: \"entra\", tag: \"country\", predicate: (r) => r._measurement == \"day_ahead_total_load_forecast\")\n",
      "Failed to retrieve data for measurement: day_ahead_total_load_forecast. Error: (400)\n",
      "Reason: Bad Request\n",
      "HTTP response headers: HTTPHeaderDict({'Content-Type': 'application/json; charset=utf-8', 'Vary': 'Accept-Encoding', 'X-Influxdb-Build': 'OSS', 'X-Influxdb-Version': 'v2.7.0', 'X-Platform-Error-Code': 'invalid', 'Date': 'Fri, 21 Jul 2023 13:21:59 GMT', 'Transfer-Encoding': 'chunked'})\n",
      "HTTP response body: b'{\"code\":\"invalid\",\"message\":\"compilation failed: error @1:32-1:33: invalid statement: ;\"}'\n",
      "\n",
      "import \"influxdata/influxdb/v1\"; v1.tagValues(bucket: \"entra\", tag: \"country\", predicate: (r) => r._measurement == \"installed_generation_capacity\")\n",
      "Failed to retrieve data for measurement: installed_generation_capacity. Error: (400)\n",
      "Reason: Bad Request\n",
      "HTTP response headers: HTTPHeaderDict({'Content-Type': 'application/json; charset=utf-8', 'Vary': 'Accept-Encoding', 'X-Influxdb-Build': 'OSS', 'X-Influxdb-Version': 'v2.7.0', 'X-Platform-Error-Code': 'invalid', 'Date': 'Fri, 21 Jul 2023 13:21:59 GMT', 'Transfer-Encoding': 'chunked'})\n",
      "HTTP response body: b'{\"code\":\"invalid\",\"message\":\"compilation failed: error @1:32-1:33: invalid statement: ;\"}'\n",
      "\n",
      "import \"influxdata/influxdb/v1\"; v1.tagValues(bucket: \"entra\", tag: \"country\", predicate: (r) => r._measurement == \"actual_generation\")\n",
      "Failed to retrieve data for measurement: actual_generation. Error: (400)\n",
      "Reason: Bad Request\n",
      "HTTP response headers: HTTPHeaderDict({'Content-Type': 'application/json; charset=utf-8', 'Vary': 'Accept-Encoding', 'X-Influxdb-Build': 'OSS', 'X-Influxdb-Version': 'v2.7.0', 'X-Platform-Error-Code': 'invalid', 'Date': 'Fri, 21 Jul 2023 13:21:59 GMT', 'Transfer-Encoding': 'chunked'})\n",
      "HTTP response body: b'{\"code\":\"invalid\",\"message\":\"compilation failed: error @1:32-1:33: invalid statement: ;\"}'\n",
      "\n"
     ]
    }
   ],
   "source": [
    "# Query the database and generate lists\n",
    "\n",
    "for measurement in measurements:\n",
    "    success_countries = []\n",
    "    failed_countries = []\n",
    "    query = f'import \"influxdata/influxdb/v1\"; v1.tagValues(bucket: \"{influxdb_bucket}\", tag: \"country\", predicate: (r) => r._measurement == \"{measurement}\")'\n",
    "    print(query)\n",
    "\n",
    "    try:\n",
    "        result = query_api.query(query=query, org=influxdb_org)\n",
    "        if not result:\n",
    "            print(f\"No data for measurement: {measurement}\")\n",
    "        else:\n",
    "            for table in result:\n",
    "                for record in table.records:\n",
    "                    country_code = record.get_value()\n",
    "                    query_check = f'from(bucket: \"{influxdb_bucket}\") |> range(start: -1d) |> filter(fn: (r) => r._measurement == \"{measurement}\" and r.country == \"{country_code}\")'\n",
    "                    result_check = query_api.query(query=query_check, org=influxdb_org)\n",
    "                    if len(result_check) == 0:\n",
    "                        failed_countries.append(country_code)\n",
    "                    else:\n",
    "                        success_countries.append(country_code)\n",
    "            \n",
    "            globals()[f'success_{measurement}'] = success_countries\n",
    "            globals()[f'failed_{measurement}'] = failed_countries\n",
    "            print(f'Successful countries for {measurement}: {success_countries}')\n",
    "            print(f'Failed countries for {measurement}: {failed_countries}')\n",
    "            \n",
    "    except InfluxDBError as e:\n",
    "        print(f\"Failed to retrieve data for measurement: {measurement}. Error: {e}\")"
   ]
  },
  {
   "cell_type": "code",
   "execution_count": null,
   "id": "cf3409d0-1719-4da7-9399-3631ed7e495b",
   "metadata": {},
   "outputs": [],
   "source": [
    "logging.info('Script ended at %s', pd.Timestamp.now(tz='UTC'))"
   ]
  },
  {
   "cell_type": "code",
   "execution_count": null,
   "id": "6656701c-f815-4ade-ac2b-37f5c7da6efa",
   "metadata": {},
   "outputs": [],
   "source": []
  }
 ],
 "metadata": {
  "kernelspec": {
   "display_name": "Python 3 (ipykernel)",
   "language": "python",
   "name": "python3"
  },
  "language_info": {
   "codemirror_mode": {
    "name": "ipython",
    "version": 3
   },
   "file_extension": ".py",
   "mimetype": "text/x-python",
   "name": "python",
   "nbconvert_exporter": "python",
   "pygments_lexer": "ipython3",
   "version": "3.10.9"
  }
 },
 "nbformat": 4,
 "nbformat_minor": 5
}
