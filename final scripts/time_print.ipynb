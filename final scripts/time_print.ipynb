{
 "cells": [
  {
   "cell_type": "code",
   "execution_count": 1,
   "metadata": {},
   "outputs": [],
   "source": [
    "from datetime import datetime\n",
    "import pytz"
   ]
  },
  {
   "cell_type": "code",
   "execution_count": 2,
   "metadata": {},
   "outputs": [],
   "source": [
    "# Set the timezone for Sofia, Bulgaria\n",
    "sofia_timezone = pytz.timezone('Europe/Sofia')\n",
    "\n",
    "# Get the current time in Sofia\n",
    "current_time = datetime.now(sofia_timezone)"
   ]
  },
  {
   "cell_type": "code",
   "execution_count": 3,
   "metadata": {},
   "outputs": [
    {
     "name": "stdout",
     "output_type": "stream",
     "text": [
      "Current time in Sofia, Bulgaria: 2023-08-10 14:27:46 EEST+0300\n"
     ]
    }
   ],
   "source": [
    "# Format the current time as a string\n",
    "time_format = \"%Y-%m-%d %H:%M:%S %Z%z\"\n",
    "formatted_time = current_time.strftime(time_format)\n",
    "\n",
    "# Print the formatted time\n",
    "print(\"Current time in Sofia, Bulgaria:\", formatted_time)"
   ]
  },
  {
   "cell_type": "code",
   "execution_count": null,
   "metadata": {},
   "outputs": [],
   "source": []
  }
 ],
 "metadata": {
  "kernelspec": {
   "display_name": "Python 3",
   "language": "python",
   "name": "python3"
  },
  "language_info": {
   "codemirror_mode": {
    "name": "ipython",
    "version": 3
   },
   "file_extension": ".py",
   "mimetype": "text/x-python",
   "name": "python",
   "nbconvert_exporter": "python",
   "pygments_lexer": "ipython3",
   "version": "3.10.11"
  },
  "orig_nbformat": 4
 },
 "nbformat": 4,
 "nbformat_minor": 2
}
